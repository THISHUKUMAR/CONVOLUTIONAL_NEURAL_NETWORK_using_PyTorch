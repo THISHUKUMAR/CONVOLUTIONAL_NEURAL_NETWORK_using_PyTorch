{
 "cells": [
  {
   "cell_type": "code",
   "execution_count": 10,
   "id": "dd76747e",
   "metadata": {},
   "outputs": [],
   "source": [
    "import torch\n",
    "from torch import nn"
   ]
  },
  {
   "cell_type": "code",
   "execution_count": 11,
   "id": "fc07df57",
   "metadata": {},
   "outputs": [],
   "source": [
    "import torch\n",
    "from torch import nn\n",
    "import torchvision\n",
    "from torchvision import datasets,transforms\n",
    "from torchvision.transforms import ToTensor\n",
    "import matplotlib.pyplot as plt"
   ]
  },
  {
   "cell_type": "code",
   "execution_count": 12,
   "id": "4a4bfc27",
   "metadata": {},
   "outputs": [],
   "source": [
    "#datasets\n",
    "train_data=datasets.FashionMNIST(\n",
    "    root=\"data\",\n",
    "    train=True,\n",
    "    download=True,\n",
    "    transform=torchvision.transforms.ToTensor(),\n",
    "    target_transform=None)\n",
    "test_data=datasets.FashionMNIST(\n",
    "    root=\"data\",\n",
    "    train=False,        \n",
    "    download=True,\n",
    "    transform=torchvision.transforms.ToTensor(),\n",
    "    target_transform=None)"
   ]
  },
  {
   "cell_type": "code",
   "execution_count": null,
   "id": "9915e73c",
   "metadata": {},
   "outputs": [],
   "source": []
  },
  {
   "cell_type": "code",
   "execution_count": 13,
   "id": "8c0d8460",
   "metadata": {},
   "outputs": [],
   "source": [
    "class_name=train_data.classes"
   ]
  },
  {
   "cell_type": "code",
   "execution_count": 14,
   "id": "1497eafd",
   "metadata": {},
   "outputs": [
    {
     "name": "stdout",
     "output_type": "stream",
     "text": [
      "Image shape:torch.Size([1, 28, 28])\n"
     ]
    },
    {
     "data": {
      "text/plain": [
       "<matplotlib.image.AxesImage at 0x12fed723310>"
      ]
     },
     "execution_count": 14,
     "metadata": {},
     "output_type": "execute_result"
    },
    {
     "data": {
      "image/png": "[encoded data removed]",
      "text/plain": [
       "<Figure size 640x480 with 1 Axes>"
      ]
     },
     "metadata": {},
     "output_type": "display_data"
    }
   ],
   "source": [
    "image,label=train_data[0]\n",
    "print(f\"Image shape:{image.shape}\")\n",
    "plt.imshow(image.squeeze())"
   ]
  },
  {
   "cell_type": "code",
   "execution_count": 15,
   "id": "c7f153ca",
   "metadata": {},
   "outputs": [],
   "source": [
    "#Create CNN \n",
    "class FashionMnist(nn.Module):\n",
    "    def __init__(self,input_shape:int,hidden_units:int,output_shape:int):\n",
    "        super().__init__()\n",
    "        self.Conv_block1=nn.Sequential(\n",
    "            nn.Conv2d(in_channels=input_shape,\n",
    "                      out_channels=hidden_units,\n",
    "                      kernel_size=3,\n",
    "                      stride=1,\n",
    "                      padding=1\n",
    "                      ),\n",
    "            nn.ReLU(),\n",
    "            nn.Conv2d(in_channels=hidden_units,\n",
    "                    out_channels=hidden_units,\n",
    "                    kernel_size=3,\n",
    "                    stride=1,\n",
    "                    padding=1),\n",
    "            nn.ReLU(),\n",
    "            nn.MaxPool2d(kernel_size=2)\n",
    "             )\n",
    "        self.Conv_block2=nn.Sequential(\n",
    "            nn.Conv2d(in_channels=hidden_units,out_channels=hidden_units,\n",
    "                      kernel_size=3,\n",
    "                      stride=1,\n",
    "                      padding=1),\n",
    "            nn.ReLU(),\n",
    "            nn.Conv2d(in_channels=hidden_units,\n",
    "                      out_channels=hidden_units,\n",
    "                      kernel_size=3,\n",
    "                      stride=1,\n",
    "                      padding=1),\n",
    "            nn.ReLU(),\n",
    "            nn.MaxPool2d(kernel_size=2)\n",
    "        )\n",
    "        self.classifier_layer=nn.Sequential(\n",
    "            nn.Flatten(),\n",
    "            nn.Linear(in_features=hidden_units*7*7,\n",
    "                      out_features=output_shape)\n",
    "        )\n",
    "    def forward(self,x):\n",
    "        x=self.Conv_block1(x)\n",
    "        # print(x.shape)\n",
    "        x=self.Conv_block2(x)\n",
    "        # print(x.shape)\n",
    "        x=self.classifier_layer(x)\n",
    "        return x\n",
    "\n"
   ]
  },
  {
   "cell_type": "code",
   "execution_count": 16,
   "id": "0cb22bb2",
   "metadata": {},
   "outputs": [],
   "source": [
    "device=\"cuda\" if torch.cuda.is_available() else \"cpu\""
   ]
  },
  {
   "cell_type": "code",
   "execution_count": 17,
   "id": "d2b4f5fb",
   "metadata": {},
   "outputs": [],
   "source": [
    "torch.manual_seed(42)\n",
    "model=FashionMnist(input_shape=1,\n",
    "                   hidden_units=10,\n",
    "                   output_shape=len(class_name)).to(device)\n"
   ]
  },
  {
   "cell_type": "code",
   "execution_count": 18,
   "id": "458d92b1",
   "metadata": {},
   "outputs": [
    {
     "name": "stdout",
     "output_type": "stream",
     "text": [
      "Image batch shape:torch.Size([1, 28, 28])\n",
      "single image shape:torch.Size([28, 28])\n"
     ]
    },
    {
     "data": {
      "text/plain": [
       "torch.Size([1, 28, 28])"
      ]
     },
     "execution_count": 18,
     "metadata": {},
     "output_type": "execute_result"
    }
   ],
   "source": [
    "torch.manual_seed(42)\n",
    "images=torch.randn(size=(32,3,64,64))\n",
    "test_img=image[0]\n",
    "print(f\"Image batch shape:{image.shape}\")\n",
    "print(f\"single image shape:{test_img.shape}\")\n",
    "# print(f\"Test image shape:{test_img}\")\n",
    "image.shape"
   ]
  },
  {
   "cell_type": "code",
   "execution_count": 19,
   "id": "c396d6f5",
   "metadata": {},
   "outputs": [
    {
     "name": "stdout",
     "output_type": "stream",
     "text": [
      "3-channel test image shape: torch.Size([3, 28, 28])\n"
     ]
    }
   ],
   "source": [
    "# Convert the grayscale image to a 3-channel image\n",
    "test_img_3 = test_img.unsqueeze(0).repeat(3, 1, 1)  # Shape becomes [3, 28, 28]\n",
    "print(f\"3-channel test image shape: {test_img_3.shape}\")"
   ]
  },
  {
   "cell_type": "code",
   "execution_count": 20,
   "id": "b326c1b3",
   "metadata": {},
   "outputs": [],
   "source": [
    "conv_layer=nn.Conv2d(in_channels=3,\n",
    "                     out_channels=10,kernel_size=10,\n",
    "                     stride=1,\n",
    "                     padding=0\n",
    "                     )"
   ]
  },
  {
   "cell_type": "code",
   "execution_count": 21,
   "id": "f4141eba",
   "metadata": {},
   "outputs": [
    {
     "data": {
      "text/plain": [
       "tensor([[[-0.0281, -0.0280, -0.0276,  ..., -0.2104, -0.1809, -0.1612],\n",
       "         [-0.0280, -0.0279, -0.0273,  ..., -0.1503, -0.1148, -0.2766],\n",
       "         [-0.0276, -0.0277, -0.0277,  ...,  0.0346, -0.0345, -0.2514],\n",
       "         ...,\n",
       "         [ 0.1226,  0.0781,  0.0411,  ..., -0.1120, -0.1317, -0.3578],\n",
       "         [ 0.0273,  0.0194,  0.0620,  ...,  0.0670, -0.0164, -0.2318],\n",
       "         [-0.0389, -0.0890, -0.0725,  ..., -0.1271, -0.1321, -0.2362]],\n",
       "\n",
       "        [[ 0.0394,  0.0393,  0.0392,  ...,  0.1538,  0.1500, -0.0141],\n",
       "         [ 0.0392,  0.0394,  0.0398,  ...,  0.1487,  0.0768,  0.1390],\n",
       "         [ 0.0390,  0.0385,  0.0386,  ...,  0.3481,  0.3912,  0.0585],\n",
       "         ...,\n",
       "         [ 0.0907,  0.1374,  0.1528,  ..., -0.0335,  0.0297, -0.0755],\n",
       "         [ 0.0606,  0.0045,  0.0857,  ...,  0.1110,  0.0563, -0.1310],\n",
       "         [-0.1090, -0.0627,  0.0208,  ...,  0.0611,  0.0437, -0.0164]],\n",
       "\n",
       "        [[ 0.0404,  0.0401,  0.0401,  ..., -0.6857, -0.6027, -0.3876],\n",
       "         [ 0.0406,  0.0407,  0.0399,  ..., -0.7172, -0.6776, -0.5565],\n",
       "         [ 0.0401,  0.0397,  0.0406,  ..., -0.7297, -0.7679, -0.5206],\n",
       "         ...,\n",
       "         [ 0.0223, -0.2027, -0.3125,  ..., -0.3066, -0.2627, -0.2673],\n",
       "         [ 0.1654,  0.1364,  0.0727,  ..., -0.0706, -0.0042,  0.0189],\n",
       "         [ 0.1719,  0.1907,  0.1872,  ...,  0.1433,  0.1902,  0.1170]],\n",
       "\n",
       "        ...,\n",
       "\n",
       "        [[-0.0087, -0.0086, -0.0089,  ..., -0.0061,  0.0746,  0.0951],\n",
       "         [-0.0084, -0.0081, -0.0080,  ...,  0.0408,  0.0260, -0.0252],\n",
       "         [-0.0086, -0.0088, -0.0095,  ...,  0.0064,  0.0910,  0.0255],\n",
       "         ...,\n",
       "         [-0.1109, -0.1735, -0.1814,  ..., -0.1310, -0.1144, -0.2336],\n",
       "         [-0.1546, -0.1905, -0.1987,  ..., -0.4102, -0.4576, -0.4769],\n",
       "         [-0.3122, -0.4520, -0.4321,  ..., -0.4113, -0.3343, -0.3214]],\n",
       "\n",
       "        [[ 0.0374,  0.0376,  0.0376,  ..., -0.5449, -0.3788, -0.4140],\n",
       "         [ 0.0374,  0.0372,  0.0371,  ..., -0.5135, -0.5915, -0.6714],\n",
       "         [ 0.0377,  0.0383,  0.0378,  ..., -0.6809, -0.5610, -0.6089],\n",
       "         ...,\n",
       "         [-0.7871, -0.8612, -0.8956,  ..., -1.1220, -1.1042, -1.0227],\n",
       "         [-0.8155, -0.8696, -0.9663,  ..., -1.0069, -1.0054, -0.9387],\n",
       "         [-0.7729, -0.8403, -0.8939,  ..., -0.9229, -0.9237, -0.8911]],\n",
       "\n",
       "        [[-0.0134, -0.0133, -0.0133,  ...,  0.2493,  0.1857, -0.0299],\n",
       "         [-0.0132, -0.0127, -0.0120,  ...,  0.1902,  0.2373,  0.1315],\n",
       "         [-0.0128, -0.0126, -0.0135,  ...,  0.5155,  0.4557,  0.1438],\n",
       "         ...,\n",
       "         [ 0.5084,  0.7033,  0.8303,  ...,  1.0828,  1.0732,  0.6696],\n",
       "         [ 1.0467,  1.1406,  1.0419,  ...,  1.0285,  0.9886,  0.6649],\n",
       "         [ 0.6950,  1.0152,  1.1257,  ...,  0.9973,  0.9910,  0.7789]]],\n",
       "       grad_fn=<SqueezeBackward1>)"
      ]
     },
     "execution_count": 21,
     "metadata": {},
     "output_type": "execute_result"
    }
   ],
   "source": [
    "output=conv_layer(test_img_3)\n",
    "output\n"
   ]
  },
  {
   "cell_type": "code",
   "execution_count": 22,
   "id": "dfd65bdb",
   "metadata": {},
   "outputs": [
    {
     "data": {
      "text/plain": [
       "torch.Size([28, 28])"
      ]
     },
     "execution_count": 22,
     "metadata": {},
     "output_type": "execute_result"
    }
   ],
   "source": [
    "test_img.shape"
   ]
  },
  {
   "cell_type": "code",
   "execution_count": 23,
   "id": "48535f5e",
   "metadata": {},
   "outputs": [
    {
     "name": "stdout",
     "output_type": "stream",
     "text": [
      "Shape after going through conv_layer(): torch.Size([1, 10, 19, 19])\n"
     ]
    }
   ],
   "source": [
    "# From shape [28, 28] to [1, 28, 28]:\n",
    "test_img_with_channel = test_img.unsqueeze(0)\n",
    "\n",
    "# Now repeat along the channel dimension to get 3 channels:\n",
    "test_img_3channel = test_img_with_channel.repeat(1, 3, 1, 1)  # Now shape [1, 3, 28, 28]\n",
    "\n",
    "\n",
    "conv_output = conv_layer(test_img_3channel)\n",
    "print(f\"Shape after going through conv_layer(): {conv_output.shape}\")"
   ]
  },
  {
   "cell_type": "code",
   "execution_count": 24,
   "id": "cf1f9202",
   "metadata": {},
   "outputs": [
    {
     "data": {
      "text/plain": [
       "torch.Size([1, 3, 28, 28])"
      ]
     },
     "execution_count": 24,
     "metadata": {},
     "output_type": "execute_result"
    }
   ],
   "source": [
    "test_img_3channel.shape"
   ]
  },
  {
   "cell_type": "code",
   "execution_count": 25,
   "id": "56d667df",
   "metadata": {},
   "outputs": [
    {
     "name": "stdout",
     "output_type": "stream",
     "text": [
      "Test image original shape: torch.Size([1, 3, 28, 28])\n",
      "Shape after going through conv_layer(): torch.Size([1, 10, 19, 19])\n",
      "Shape after going through conv_layer() and max_pool_layer() : torch.Size([1, 10, 9, 9])\n"
     ]
    }
   ],
   "source": [
    "# Print out original image shape without unsqueezed dimension\n",
    "print(f\"Test image original shape: {test_img_3channel. shape}\")\n",
    "# print(f\"Test image with unsqueezed dimension: {test_img_3channel.unsqueeze(0).shape}\")\n",
    "\n",
    "# Create a sample nn.MaxPool2d layer\n",
    "max_pool_layer = nn.MaxPool2d(kernel_size=2)\n",
    "\n",
    "# Pass data through just the conv_layer\n",
    "test_image_through_conv = conv_layer(test_img_3channel)\n",
    "print(f\"Shape after going through conv_layer(): {test_image_through_conv.shape}\")\n",
    "test_image_through_conv_and_max_pool = max_pool_layer(test_image_through_conv)\n",
    "print (f\"Shape after going through conv_layer() and max_pool_layer() : {test_image_through_conv_and_max_pool.shape}\")"
   ]
  },
  {
   "cell_type": "code",
   "execution_count": 26,
   "id": "2412ca31",
   "metadata": {},
   "outputs": [],
   "source": [
    "rand_image_tensor = torch.randn(size=(1,28,28))  \n",
    "# shape = [1, 28, 28]\n"
   ]
  },
  {
   "cell_type": "code",
   "execution_count": 27,
   "id": "96789e47",
   "metadata": {},
   "outputs": [
    {
     "name": "stdout",
     "output_type": "stream",
     "text": [
      "torch.Size([1, 1, 28, 28])\n"
     ]
    }
   ],
   "source": [
    "rand_image_tensor = rand_image_tensor.unsqueeze(0)\n",
    "print(rand_image_tensor.shape)  \n",
    "# torch.Size([1, 1, 28, 28]) → [batch=1, channels=1, H=28, W=28]\n"
   ]
  },
  {
   "cell_type": "code",
   "execution_count": 28,
   "id": "4b059ff4",
   "metadata": {},
   "outputs": [
    {
     "name": "stdout",
     "output_type": "stream",
     "text": [
      "torch.Size([1, 3, 28, 28])\n"
     ]
    }
   ],
   "source": [
    "rand_image_tensor = rand_image_tensor.repeat(1, 3, 1, 1)\n",
    "print(rand_image_tensor.shape)  \n",
    "# torch.Size([1, 3, 28, 28]) → [batch=1, channels=3, H=28, W=28]\n"
   ]
  },
  {
   "cell_type": "code",
   "execution_count": 29,
   "id": "5f139dd5",
   "metadata": {},
   "outputs": [
    {
     "data": {
      "text/plain": [
       "torch.Size([1, 28, 28])"
      ]
     },
     "execution_count": 29,
     "metadata": {},
     "output_type": "execute_result"
    }
   ],
   "source": [
    "image.shape"
   ]
  },
  {
   "cell_type": "markdown",
   "id": "ca3368ef",
   "metadata": {},
   "source": [
    "### Training cnn"
   ]
  },
  {
   "cell_type": "code",
   "execution_count": 38,
   "id": "8e187451",
   "metadata": {},
   "outputs": [],
   "source": [
    "#optimizer and loss fuction\n",
    "from helper_function import accuracy_fn\n",
    "loss_function=nn.CrossEntropyLoss()\n",
    "optimizer=torch.optim.SGD(params=model.parameters(),\n",
    "                          lr=0.01)"
   ]
  },
  {
   "cell_type": "code",
   "execution_count": 39,
   "id": "bcf48e3f",
   "metadata": {},
   "outputs": [],
   "source": [
    "from timeit import default_timer as timer\n",
    "def print_train_time(start:float,end:float,device:torch.device=None):\n",
    "    total_time=end-start\n",
    "    print(f\"Train time on {device}:{total_time:3f}seconds\")\n",
    "    return total_time"
   ]
  },
  {
   "cell_type": "code",
   "execution_count": 40,
   "id": "a0571f46",
   "metadata": {},
   "outputs": [
    {
     "data": {
      "text/plain": [
       "<bound method Module.state_dict of FashionMnist(\n",
       "  (Conv_block1): Sequential(\n",
       "    (0): Conv2d(1, 10, kernel_size=(3, 3), stride=(1, 1), padding=(1, 1))\n",
       "    (1): ReLU()\n",
       "    (2): Conv2d(10, 10, kernel_size=(3, 3), stride=(1, 1), padding=(1, 1))\n",
       "    (3): ReLU()\n",
       "    (4): MaxPool2d(kernel_size=2, stride=2, padding=0, dilation=1, ceil_mode=False)\n",
       "  )\n",
       "  (Conv_block2): Sequential(\n",
       "    (0): Conv2d(10, 10, kernel_size=(3, 3), stride=(1, 1), padding=(1, 1))\n",
       "    (1): ReLU()\n",
       "    (2): Conv2d(10, 10, kernel_size=(3, 3), stride=(1, 1), padding=(1, 1))\n",
       "    (3): ReLU()\n",
       "    (4): MaxPool2d(kernel_size=2, stride=2, padding=0, dilation=1, ceil_mode=False)\n",
       "  )\n",
       "  (classifier_layer): Sequential(\n",
       "    (0): Flatten(start_dim=1, end_dim=-1)\n",
       "    (1): Linear(in_features=490, out_features=10, bias=True)\n",
       "  )\n",
       ")>"
      ]
     },
     "execution_count": 40,
     "metadata": {},
     "output_type": "execute_result"
    }
   ],
   "source": [
    "model.state_dict"
   ]
  },
  {
   "cell_type": "code",
   "execution_count": 41,
   "id": "b8bc02a0",
   "metadata": {},
   "outputs": [],
   "source": [
    "def train_step(model:torch.nn.Module,\n",
    "               data_loader:torch.utils.data.DataLoader,\n",
    "               loss_func:torch.nn.Module,\n",
    "               optimizer: torch.optim.Optimizer,\n",
    "               accuracy_fn,\n",
    "               device:torch.device=device):\n",
    "    model.train()\n",
    "    train_loss,train_acc=0,0\n",
    "    for batch,(x,y) in enumerate(data_loader):\n",
    "        x,y=x.to(device),y.to(device)\n",
    "        \n",
    "        y_pred=model(x)\n",
    "        #step2 : cacluate the loss\n",
    "        loss=loss_function(y_pred,y)\n",
    "        train_loss+=loss #acculate the training loss\n",
    "        train_acc+=accuracy_fn(y_true=y,\n",
    "                               y_pred=y_pred.argmax(dim=1))\n",
    "        #step3:optimizer\n",
    "        optimizer.zero_grad()\n",
    "        #step4: backpropogation\n",
    "        loss.backward() \n",
    "        #step5:optimizer step\n",
    "        optimizer.step()\n",
    "       \n",
    "    #divide total train loss by lenght of train dataloader\n",
    "    train_loss/=len(data_loader)\n",
    "    train_acc/=len(data_loader)\n",
    "    print(f\"train_loss:{train_loss:.4f} | Train acc:{train_acc:4f}\")\n",
    "    \n",
    "    "
   ]
  },
  {
   "cell_type": "code",
   "execution_count": 34,
   "id": "39926747",
   "metadata": {},
   "outputs": [],
   "source": [
    "def test_step(model:torch.nn.Module,\n",
    "               data_loader:torch.utils.data.DataLoader,\n",
    "               loss_func:torch.nn.Module,\n",
    "               accuracy_fn,\n",
    "               device:torch.device=device):\n",
    "    \"\"\"performing the testinig loop\"\"\"\n",
    "    test_acc,test_loss=0,0\n",
    "    model.eval()\n",
    "    with torch.inference_mode():\n",
    "        for X,y in data_loader:\n",
    "            X,y=X.to(device),y.to(device)\n",
    "            #step1:forward pass\n",
    "            test_pred=model(X)\n",
    "            #calculate the loss\n",
    "            test_loss+=loss_func(test_pred,y)\n",
    "            test_acc+=accuracy_fn(y_true=y,y_pred=test_pred.argmax(dim=1))\n",
    "        #adjust the matrix\n",
    "        test_loss/=len(data_loader)\n",
    "        test_acc/=len(data_loader)\n",
    "        print(f\"Test loss:{test_loss:5f}|test acc:{test_acc:5f}\")\n",
    "        \n"
   ]
  },
  {
   "cell_type": "code",
   "execution_count": 35,
   "id": "22f49a5a",
   "metadata": {},
   "outputs": [],
   "source": [
    "from torch.utils.data import DataLoader\n",
    "BATCH_SIZE=32\n",
    "train_dataLoader=DataLoader(\n",
    "    dataset=train_data,\n",
    "    batch_size=BATCH_SIZE,\n",
    "    shuffle=True\n",
    ")\n",
    "test_dataLoader=DataLoader(\n",
    "    dataset=test_data,\n",
    "    batch_size=BATCH_SIZE,\n",
    "    shuffle=False\n",
    ")\n"
   ]
  },
  {
   "cell_type": "code",
   "execution_count": 36,
   "id": "053520ad",
   "metadata": {},
   "outputs": [],
   "source": [
    "# TRAIN STEP\n",
    "def train_step(data_loader, model, loss_func, optimizer, accuracy_fn, device):\n",
    "    model.train()  # set to training mode\n",
    "    train_loss, train_acc = 0, 0\n",
    "\n",
    "    for X, y in data_loader:\n",
    "        X, y = X.to(device), y.to(device)\n",
    "\n",
    "        # 1. Forward pass\n",
    "        y_pred = model(X)\n",
    "\n",
    "        # 2. Calculate loss\n",
    "        loss = loss_func(y_pred, y)\n",
    "        train_loss += loss.item()\n",
    "\n",
    "        # 3. Zero gradients\n",
    "        optimizer.zero_grad()\n",
    "\n",
    "        # 4. Backward pass\n",
    "        loss.backward()\n",
    "\n",
    "        # 5. Update weights\n",
    "        optimizer.step()\n",
    "\n",
    "        # 6. Calculate accuracy\n",
    "        y_pred_class = y_pred.argmax(dim=1)\n",
    "        train_acc += accuracy_fn(y_true=y, y_pred=y_pred_class)\n",
    "\n",
    "    # Average metrics\n",
    "    train_loss /= len(data_loader)\n",
    "    train_acc /= len(data_loader)\n",
    "    print(f\"train_loss:{train_loss:.4f} | Train acc:{train_acc:.2f}\")\n",
    "    return train_loss, train_acc\n",
    "\n",
    "\n",
    "# TEST STEP\n",
    "def test_step(data_loader, model, loss_func, accuracy_fn, device):\n",
    "    model.eval()  # set to evaluation mode\n",
    "    test_loss, test_acc = 0, 0\n",
    "\n",
    "    with torch.inference_mode():  # no gradients in testing\n",
    "        for X, y in data_loader:\n",
    "            X, y = X.to(device), y.to(device)\n",
    "\n",
    "            # 1. Forward pass\n",
    "            test_pred = model(X)\n",
    "\n",
    "            # 2. Calculate loss\n",
    "            loss = loss_func(test_pred, y)\n",
    "            test_loss += loss.item()\n",
    "\n",
    "            # 3. Accuracy\n",
    "            test_pred_class = test_pred.argmax(dim=1)\n",
    "            test_acc += accuracy_fn(y_true=y, y_pred=test_pred_class)\n",
    "\n",
    "    # Average metrics\n",
    "    test_loss /= len(data_loader)\n",
    "    test_acc /= len(data_loader)\n",
    "    print(f\"Test loss:{test_loss:.6f} | Test acc:{test_acc:.2f}\")\n",
    "    return test_loss, test_acc\n"
   ]
  },
  {
   "cell_type": "code",
   "execution_count": 37,
   "id": "b1247874",
   "metadata": {},
   "outputs": [
    {
     "name": "stderr",
     "output_type": "stream",
     "text": [
      "  0%|          | 0/3 [00:00<?, ?it/s]"
     ]
    },
    {
     "name": "stdout",
     "output_type": "stream",
     "text": [
      "Epoch: 0\n",
      "---------\n",
      "train_loss:1.0378 | Train acc:62.34\n"
     ]
    },
    {
     "name": "stderr",
     "output_type": "stream",
     "text": [
      " 33%|███▎      | 1/3 [00:15<00:31, 15.67s/it]"
     ]
    },
    {
     "name": "stdout",
     "output_type": "stream",
     "text": [
      "Test loss:0.625202 | Test acc:76.87\n",
      "Epoch: 1\n",
      "---------\n",
      "train_loss:0.5495 | Train acc:79.99\n"
     ]
    },
    {
     "name": "stderr",
     "output_type": "stream",
     "text": [
      " 67%|██████▋   | 2/3 [00:30<00:14, 14.93s/it]"
     ]
    },
    {
     "name": "stdout",
     "output_type": "stream",
     "text": [
      "Test loss:0.498390 | Test acc:81.54\n",
      "Epoch: 2\n",
      "---------\n",
      "train_loss:0.4556 | Train acc:83.53\n"
     ]
    },
    {
     "name": "stderr",
     "output_type": "stream",
     "text": [
      "100%|██████████| 3/3 [00:45<00:00, 15.07s/it]"
     ]
    },
    {
     "name": "stdout",
     "output_type": "stream",
     "text": [
      "Test loss:0.440295 | Test acc:84.22\n",
      "Train time on cuda:45.234422seconds\n"
     ]
    },
    {
     "name": "stderr",
     "output_type": "stream",
     "text": [
      "\n"
     ]
    }
   ],
   "source": [
    "torch.manual_seed(42)\n",
    "from tqdm import tqdm\n",
    "\n",
    "# Measure time\n",
    "from timeit import default_timer as timer\n",
    "train_time_start_model_2 = timer()\n",
    "\n",
    "# Train and test model \n",
    "epochs = 3\n",
    "for epoch in tqdm(range(epochs)):\n",
    "    print(f\"Epoch: {epoch}\\n---------\")\n",
    "    train_step(data_loader=train_dataLoader, \n",
    "        model=model, \n",
    "        loss_func=loss_function,\n",
    "        optimizer=optimizer,\n",
    "        accuracy_fn=accuracy_fn,\n",
    "        device=device\n",
    "    )\n",
    "    test_step(data_loader=test_dataLoader,\n",
    "        model=model,\n",
    "        loss_func=loss_function,\n",
    "        accuracy_fn=accuracy_fn,\n",
    "        device=device\n",
    "    )\n",
    "\n",
    "train_time_end_model_2 = timer()\n",
    "total_train_time_model_2 = print_train_time(start=train_time_start_model_2,\n",
    "                                           end=train_time_end_model_2,\n",
    "                                           device=device)"
   ]
  },
  {
   "cell_type": "code",
   "execution_count": 42,
   "id": "55f3886b",
   "metadata": {},
   "outputs": [],
   "source": [
    "def make_prediction(model:torch.nn.Module,\n",
    "                    data:list,\n",
    "                    device:torch.device=device):\n",
    "    pred_probs=[]\n",
    "    model.eval()\n",
    "    model.to(device)\n",
    "    with torch.inference_mode():\n",
    "        for sample in data:\n",
    "            sample=torch.unsqueeze(sample,dim=0).to(device)\n",
    "            #forward pass\n",
    "            pred_logits=model(sample)\n",
    "            #get prediction probability\n",
    "            pred_prob=torch.softmax(pred_logits.squeeze(),dim=0)\n",
    "            #get the probablity if its in gpu\n",
    "            pred_probs.append(pred_prob.cpu())\n",
    "\n",
    "        return torch.stack(pred_probs)\n",
    "    "
   ]
  },
  {
   "cell_type": "code",
   "execution_count": 70,
   "id": "f9b2e0e9",
   "metadata": {},
   "outputs": [
    {
     "data": {
      "text/plain": [
       "torch.Size([1, 28, 28])"
      ]
     },
     "execution_count": 70,
     "metadata": {},
     "output_type": "execute_result"
    }
   ],
   "source": [
    "import random\n",
    "random.seed(42)\n",
    "test_sample= []\n",
    "test_label=[]\n",
    "for sample,label in random.sample(list(test_data),k=9):\n",
    "    test_sample.append(sample)\n",
    "    test_label.append(label)\n",
    "\n",
    "test_sample[0].shape"
   ]
  },
  {
   "cell_type": "code",
   "execution_count": 71,
   "id": "6e6f608d",
   "metadata": {},
   "outputs": [
    {
     "data": {
      "text/plain": [
       "Text(0.5, 1.0, 'Sandal')"
      ]
     },
     "execution_count": 71,
     "metadata": {},
     "output_type": "execute_result"
    },
    {
     "data": {
      "image/png": "[encoded data removed]",
      "text/plain": [
       "<Figure size 640x480 with 1 Axes>"
      ]
     },
     "metadata": {},
     "output_type": "display_data"
    }
   ],
   "source": [
    "plt.imshow(test_sample[0].squeeze(),cmap=\"gray\")\n",
    "plt.title(class_name[test_label[0]])"
   ]
  },
  {
   "cell_type": "code",
   "execution_count": 72,
   "id": "54488992",
   "metadata": {},
   "outputs": [
    {
     "data": {
      "text/plain": [
       "tensor([[1.6220e-07, 3.3332e-08, 6.5189e-08, 6.3789e-08, 1.2135e-08, 9.6602e-01,\n",
       "         8.1150e-08, 7.0932e-05, 4.5556e-04, 3.3449e-02],\n",
       "        [3.2256e-02, 7.3568e-01, 8.3759e-04, 2.1813e-01, 8.5768e-03, 7.0626e-05,\n",
       "         3.5125e-03, 1.4421e-04, 7.8343e-04, 3.8647e-06]])"
      ]
     },
     "execution_count": 72,
     "metadata": {},
     "output_type": "execute_result"
    }
   ],
   "source": [
    "pred=make_prediction(model=model,\n",
    "                     data=test_sample)\n",
    "pred[:2]"
   ]
  },
  {
   "cell_type": "code",
   "execution_count": 73,
   "id": "406c5f18",
   "metadata": {},
   "outputs": [
    {
     "data": {
      "text/plain": [
       "tensor([5, 1, 7, 2, 3, 0, 4, 7, 1])"
      ]
     },
     "execution_count": 73,
     "metadata": {},
     "output_type": "execute_result"
    }
   ],
   "source": [
    "pred_class=pred.argmax(dim=1)\n",
    "pred_class"
   ]
  },
  {
   "cell_type": "code",
   "execution_count": 74,
   "id": "e15e1ef0",
   "metadata": {},
   "outputs": [
    {
     "data": {
      "text/plain": [
       "[5, 1, 7, 4, 3, 0, 4, 7, 1]"
      ]
     },
     "execution_count": 74,
     "metadata": {},
     "output_type": "execute_result"
    }
   ],
   "source": [
    "test_label"
   ]
  },
  {
   "cell_type": "code",
   "execution_count": 75,
   "id": "e8335018",
   "metadata": {},
   "outputs": [],
   "source": [
    "import matplotlib.pyplot as plt"
   ]
  },
  {
   "cell_type": "code",
   "execution_count": 76,
   "id": "b38d45a8",
   "metadata": {},
   "outputs": [
    {
     "data": {
      "image/png": "[encoded data removed]",
      "text/plain": [
       "<Figure size 900x900 with 9 Axes>"
      ]
     },
     "metadata": {},
     "output_type": "display_data"
    }
   ],
   "source": [
    "# Plot predictions\n",
    "plt.figure(figsize=(9, 9))\n",
    "nrows = 3\n",
    "ncols = 3\n",
    "for i, sample in enumerate(test_sample):\n",
    "# Create subplot\n",
    "     plt.subplot(nrows, ncols, i+1)\n",
    "\n",
    "# Plot the target image\n",
    "     plt.imshow(sample.squeeze(), cmap=\"gray\")\n",
    "\n",
    "# Find the prediction (in text form, e.g \"Sandal\")\n",
    "     pred_label = class_name[pred_class[i]]\n",
    "\n",
    "# Get the truth label (in text form)\n",
    "     truth_label = class_name[test_label[i]]\n",
    "\n",
    "# Create a title for the plot\n",
    "     title_text = f\"Pred: {pred_label} | Truth: {truth_label}\"\n",
    "\n",
    "# Check for equality between pred and truth and change color of title text\n",
    "     if pred_label == truth_label:\n",
    "        plt.title(title_text, fontsize=10,c=\"g\") # green text if prediction same as truth\n",
    "     else:\n",
    "         plt.title(title_text, fontsize=10, c=\"r\")"
   ]
  },
  {
   "cell_type": "code",
   "execution_count": 78,
   "id": "28a61855",
   "metadata": {},
   "outputs": [
    {
     "data": {
      "application/vnd.jupyter.widget-view+json": {
       "model_id": "a4685d127cad4fa28e5d4e57b0e46135",
       "version_major": 2,
       "version_minor": 0
      },
      "text/plain": [
       "Making predictions ... :   0%|          | 0/313 [00:00<?, ?it/s]"
      ]
     },
     "metadata": {},
     "output_type": "display_data"
    },
    {
     "data": {
      "text/plain": [
       "tensor([9, 2, 1, 1, 6, 1, 4, 6, 5, 7])"
      ]
     },
     "execution_count": 78,
     "metadata": {},
     "output_type": "execute_result"
    }
   ],
   "source": [
    "from tqdm.auto import tqdm\n",
    "\n",
    "# 1. Make predictions with trained model\n",
    "y_preds = []\n",
    "model.eval()\n",
    "with torch.inference_mode():\n",
    "    for x, y in tqdm(test_dataLoader, desc=\"Making predictions ... \") :\n",
    "# Send the data and targets to target device\n",
    "        x, y = x.to(device), y.to(device)\n",
    "# Do the forward pass\n",
    "        y_logit = model(x)\n",
    "# Turn predictions from logits -> prediction probabilities -> prediction labels\n",
    "        y_pred = torch.softmax(y_logit.squeeze(), dim=0) . argmax(dim=1)\n",
    "# Put prediction on CPU for evaluation\n",
    "        y_preds. append(y_pred.cpu( ))\n",
    "\n",
    "# Concatenate list of predictions into a tensor\n",
    "# print(y_preds)\n",
    "y_pred_tensor = torch.cat(y_preds)\n",
    "y_pred_tensor[:10]"
   ]
  },
  {
   "cell_type": "code",
   "execution_count": 83,
   "id": "9c4f1cd4",
   "metadata": {},
   "outputs": [
    {
     "name": "stdout",
     "output_type": "stream",
     "text": [
      "Requirement already satisfied: torchmetrics in c:\\users\\thish\\miniconda3\\envs\\dl_env\\lib\\site-packages (1.8.2)\n",
      "Collecting mlxtend\n",
      "  Downloading mlxtend-0.23.4-py3-none-any.whl.metadata (7.3 kB)\n",
      "Requirement already satisfied: numpy>1.20.0 in c:\\users\\thish\\miniconda3\\envs\\dl_env\\lib\\site-packages (from torchmetrics) (2.1.3)\n",
      "Requirement already satisfied: packaging>17.1 in c:\\users\\thish\\miniconda3\\envs\\dl_env\\lib\\site-packages (from torchmetrics) (25.0)\n",
      "Requirement already satisfied: torch>=2.0.0 in c:\\users\\thish\\miniconda3\\envs\\dl_env\\lib\\site-packages (from torchmetrics) (2.5.1+cu121)\n",
      "Requirement already satisfied: lightning-utilities>=0.8.0 in c:\\users\\thish\\miniconda3\\envs\\dl_env\\lib\\site-packages (from torchmetrics) (0.15.2)\n",
      "Requirement already satisfied: scipy>=1.2.1 in c:\\users\\thish\\miniconda3\\envs\\dl_env\\lib\\site-packages (from mlxtend) (1.15.3)\n",
      "Requirement already satisfied: pandas>=0.24.2 in c:\\users\\thish\\miniconda3\\envs\\dl_env\\lib\\site-packages (from mlxtend) (2.3.1)\n",
      "Requirement already satisfied: scikit-learn>=1.3.1 in c:\\users\\thish\\miniconda3\\envs\\dl_env\\lib\\site-packages (from mlxtend) (1.7.1)\n",
      "Requirement already satisfied: matplotlib>=3.0.0 in c:\\users\\thish\\miniconda3\\envs\\dl_env\\lib\\site-packages (from mlxtend) (3.10.5)\n",
      "Requirement already satisfied: joblib>=0.13.2 in c:\\users\\thish\\miniconda3\\envs\\dl_env\\lib\\site-packages (from mlxtend) (1.5.1)\n",
      "Requirement already satisfied: setuptools in c:\\users\\thish\\miniconda3\\envs\\dl_env\\lib\\site-packages (from lightning-utilities>=0.8.0->torchmetrics) (78.1.1)\n",
      "Requirement already satisfied: typing_extensions in c:\\users\\thish\\miniconda3\\envs\\dl_env\\lib\\site-packages (from lightning-utilities>=0.8.0->torchmetrics) (4.14.1)\n",
      "Requirement already satisfied: contourpy>=1.0.1 in c:\\users\\thish\\miniconda3\\envs\\dl_env\\lib\\site-packages (from matplotlib>=3.0.0->mlxtend) (1.3.2)\n",
      "Requirement already satisfied: cycler>=0.10 in c:\\users\\thish\\miniconda3\\envs\\dl_env\\lib\\site-packages (from matplotlib>=3.0.0->mlxtend) (0.12.1)\n",
      "Requirement already satisfied: fonttools>=4.22.0 in c:\\users\\thish\\miniconda3\\envs\\dl_env\\lib\\site-packages (from matplotlib>=3.0.0->mlxtend) (4.59.0)\n",
      "Requirement already satisfied: kiwisolver>=1.3.1 in c:\\users\\thish\\miniconda3\\envs\\dl_env\\lib\\site-packages (from matplotlib>=3.0.0->mlxtend) (1.4.8)\n",
      "Requirement already satisfied: pillow>=8 in c:\\users\\thish\\miniconda3\\envs\\dl_env\\lib\\site-packages (from matplotlib>=3.0.0->mlxtend) (11.3.0)\n",
      "Requirement already satisfied: pyparsing>=2.3.1 in c:\\users\\thish\\miniconda3\\envs\\dl_env\\lib\\site-packages (from matplotlib>=3.0.0->mlxtend) (3.2.3)\n",
      "Requirement already satisfied: python-dateutil>=2.7 in c:\\users\\thish\\miniconda3\\envs\\dl_env\\lib\\site-packages (from matplotlib>=3.0.0->mlxtend) (2.9.0.post0)\n",
      "Requirement already satisfied: pytz>=2020.1 in c:\\users\\thish\\miniconda3\\envs\\dl_env\\lib\\site-packages (from pandas>=0.24.2->mlxtend) (2025.2)\n",
      "Requirement already satisfied: tzdata>=2022.7 in c:\\users\\thish\\miniconda3\\envs\\dl_env\\lib\\site-packages (from pandas>=0.24.2->mlxtend) (2025.2)\n",
      "Requirement already satisfied: six>=1.5 in c:\\users\\thish\\miniconda3\\envs\\dl_env\\lib\\site-packages (from python-dateutil>=2.7->matplotlib>=3.0.0->mlxtend) (1.17.0)\n",
      "Requirement already satisfied: threadpoolctl>=3.1.0 in c:\\users\\thish\\miniconda3\\envs\\dl_env\\lib\\site-packages (from scikit-learn>=1.3.1->mlxtend) (3.6.0)\n",
      "Requirement already satisfied: filelock in c:\\users\\thish\\miniconda3\\envs\\dl_env\\lib\\site-packages (from torch>=2.0.0->torchmetrics) (3.18.0)\n",
      "Requirement already satisfied: networkx in c:\\users\\thish\\miniconda3\\envs\\dl_env\\lib\\site-packages (from torch>=2.0.0->torchmetrics) (3.4.2)\n",
      "Requirement already satisfied: jinja2 in c:\\users\\thish\\miniconda3\\envs\\dl_env\\lib\\site-packages (from torch>=2.0.0->torchmetrics) (3.1.6)\n",
      "Requirement already satisfied: fsspec in c:\\users\\thish\\miniconda3\\envs\\dl_env\\lib\\site-packages (from torch>=2.0.0->torchmetrics) (2025.7.0)\n",
      "Requirement already satisfied: sympy==1.13.1 in c:\\users\\thish\\miniconda3\\envs\\dl_env\\lib\\site-packages (from torch>=2.0.0->torchmetrics) (1.13.1)\n",
      "Requirement already satisfied: mpmath<1.4,>=1.1.0 in c:\\users\\thish\\miniconda3\\envs\\dl_env\\lib\\site-packages (from sympy==1.13.1->torch>=2.0.0->torchmetrics) (1.3.0)\n",
      "Requirement already satisfied: MarkupSafe>=2.0 in c:\\users\\thish\\miniconda3\\envs\\dl_env\\lib\\site-packages (from jinja2->torch>=2.0.0->torchmetrics) (3.0.2)\n",
      "Downloading mlxtend-0.23.4-py3-none-any.whl (1.4 MB)\n",
      "   ---------------------------------------- 0.0/1.4 MB ? eta -:--:--\n",
      "   ---------------------------------------- 0.0/1.4 MB ? eta -:--:--\n",
      "   ---------------------------------------- 0.0/1.4 MB ? eta -:--:--\n",
      "   ---------------------------------------- 0.0/1.4 MB ? eta -:--:--\n",
      "   ---------------------------------------- 0.0/1.4 MB ? eta -:--:--\n",
      "   ------- -------------------------------- 0.3/1.4 MB ? eta -:--:--\n",
      "   --------------- ------------------------ 0.5/1.4 MB 882.6 kB/s eta 0:00:01\n",
      "   --------------- ------------------------ 0.5/1.4 MB 882.6 kB/s eta 0:00:01\n",
      "   --------------- ------------------------ 0.5/1.4 MB 882.6 kB/s eta 0:00:01\n",
      "   ----------------------- ---------------- 0.8/1.4 MB 532.8 kB/s eta 0:00:02\n",
      "   ----------------------- ---------------- 0.8/1.4 MB 532.8 kB/s eta 0:00:02\n",
      "   ------------------------------- -------- 1.0/1.4 MB 613.9 kB/s eta 0:00:01\n",
      "   ------------------------------- -------- 1.0/1.4 MB 613.9 kB/s eta 0:00:01\n",
      "   ---------------------------------------- 1.4/1.4 MB 596.4 kB/s eta 0:00:00\n",
      "Installing collected packages: mlxtend\n",
      "Successfully installed mlxtend-0.23.4\n"
     ]
    }
   ],
   "source": [
    "!pip install torchmetrics mlxtend -U\n"
   ]
  },
  {
   "cell_type": "code",
   "execution_count": 84,
   "id": "1c00bcd1",
   "metadata": {},
   "outputs": [
    {
     "name": "stdout",
     "output_type": "stream",
     "text": [
      "mlxtend version: 0.23.4\n",
      "mlxteru version: 0.23.4\n"
     ]
    },
    {
     "name": "stderr",
     "output_type": "stream",
     "text": [
      "ERROR: Could not find a version that satisfies the requirement techmetrics (from versions: none)\n",
      "ERROR: No matching distribution found for techmetrics\n"
     ]
    }
   ],
   "source": [
    "# See if required packages are installed and if not, install them ...\n",
    "try:\n",
    "    import torchmetrics, mlxtend\n",
    "    print(f\"mlxtend version: {mlxtend .__version__}\")\n",
    "    assert int(mlxtend .__version__. split(\".\") [1] >= 19, \"mlxtend version should be 0.19.0 or higher\")\n",
    "except:\n",
    "    !pip install techmetrics -U mlxtend\n",
    "    import torchmetrics, mlxtend\n",
    "    print (f\"mlxteru version: {mlxtend .__version__}\")"
   ]
  },
  {
   "cell_type": "code",
   "execution_count": 87,
   "id": "dfa13f1c",
   "metadata": {},
   "outputs": [
    {
     "data": {
      "image/png": "[encoded data removed]",
      "text/plain": [
       "<Figure size 1000x700 with 1 Axes>"
      ]
     },
     "metadata": {},
     "output_type": "display_data"
    }
   ],
   "source": [
    "from torchmetrics import ConfusionMatrix\n",
    "from mlxtend.plotting import plot_confusion_matrix\n",
    "\n",
    "# 2. Setup confusion instance and compare predictions to targets\n",
    "confmat = ConfusionMatrix(task=\"multiclass\",num_classes=len(class_name))\n",
    "confmat_tensor = confmat(preds=y_pred_tensor,\n",
    "target=test_data.targets)\n",
    "\n",
    "# 3. Plot the confusion matrix\n",
    "fig, ax = plot_confusion_matrix(\n",
    "conf_mat=confmat_tensor.numpy(), # matplotlib likes working with munpy\n",
    "class_names=class_name,\n",
    "figsize=(10, 7))"
   ]
  },
  {
   "cell_type": "markdown",
   "id": "b88cbbdf",
   "metadata": {},
   "source": [
    "### Saving model"
   ]
  },
  {
   "cell_type": "code",
   "execution_count": 88,
   "id": "fa685d1b",
   "metadata": {},
   "outputs": [
    {
     "data": {
      "text/plain": [
       "WindowsPath('models/PytTorch_CNN_model.pth')"
      ]
     },
     "execution_count": 88,
     "metadata": {},
     "output_type": "execute_result"
    }
   ],
   "source": [
    "from pathlib import Path\n",
    "MODEL_PATH=Path(\"models\")\n",
    "MODEL_PATH.mkdir(parents=True,\n",
    "                 exist_ok=True)\n",
    "MODEL_NAME=\"PytTorch_CNN_model.pth\"\n",
    "SAVE_MODEL_PATH=MODEL_PATH/MODEL_NAME\n",
    "SAVE_MODEL_PATH"
   ]
  },
  {
   "cell_type": "code",
   "execution_count": 89,
   "id": "250562b8",
   "metadata": {},
   "outputs": [],
   "source": [
    "torch.save(obj=model.state_dict(),\n",
    "           f=SAVE_MODEL_PATH)"
   ]
  },
  {
   "cell_type": "code",
   "execution_count": null,
   "id": "36d763b1",
   "metadata": {},
   "outputs": [
    {
     "name": "stderr",
     "output_type": "stream",
     "text": [
      "C:\\Users\\thish\\AppData\\Local\\Temp\\ipykernel_18556\\438859643.py:7: FutureWarning: You are using `torch.load` with `weights_only=False` (the current default value), which uses the default pickle module implicitly. It is possible to construct malicious pickle data which will execute arbitrary code during unpickling (See https://github.com/pytorch/pytorch/blob/main/SECURITY.md#untrusted-models for more details). In a future release, the default value for `weights_only` will be flipped to `True`. This limits the functions that could be executed during unpickling. Arbitrary objects will no longer be allowed to be loaded via this mode unless they are explicitly allowlisted by the user via `torch.serialization.add_safe_globals`. We recommend you start setting `weights_only=True` for any use case where you don't have full control of the loaded file. Please open an issue on GitHub for any issues related to this experimental feature.\n",
      "  loaded_model_2.load_state_dict(torch.load(f=SAVE_MODEL_PATH) )\n"
     ]
    },
    {
     "data": {
      "text/plain": [
       "FashionMnist(\n",
       "  (Conv_block1): Sequential(\n",
       "    (0): Conv2d(1, 10, kernel_size=(3, 3), stride=(1, 1), padding=(1, 1))\n",
       "    (1): ReLU()\n",
       "    (2): Conv2d(10, 10, kernel_size=(3, 3), stride=(1, 1), padding=(1, 1))\n",
       "    (3): ReLU()\n",
       "    (4): MaxPool2d(kernel_size=2, stride=2, padding=0, dilation=1, ceil_mode=False)\n",
       "  )\n",
       "  (Conv_block2): Sequential(\n",
       "    (0): Conv2d(10, 10, kernel_size=(3, 3), stride=(1, 1), padding=(1, 1))\n",
       "    (1): ReLU()\n",
       "    (2): Conv2d(10, 10, kernel_size=(3, 3), stride=(1, 1), padding=(1, 1))\n",
       "    (3): ReLU()\n",
       "    (4): MaxPool2d(kernel_size=2, stride=2, padding=0, dilation=1, ceil_mode=False)\n",
       "  )\n",
       "  (classifier_layer): Sequential(\n",
       "    (0): Flatten(start_dim=1, end_dim=-1)\n",
       "    (1): Linear(in_features=490, out_features=10, bias=True)\n",
       "  )\n",
       ")"
      ]
     },
     "execution_count": 90,
     "metadata": {},
     "output_type": "execute_result"
    }
   ],
   "source": [
    "torch.manual_seed(42)\n",
    "\n",
    "loaded_model_2 = FashionMnist(input_shape=1,\n",
    "hidden_units=10,\n",
    "output_shape=len(class_name))\n",
    "s\n",
    "loaded_model_2.load_state_dict(torch.load(f=SAVE_MODEL_PATH) )\n",
    "\n",
    "# Send the model to the target device\n",
    "loaded_model_2.to(device)"
   ]
  },
  {
   "cell_type": "code",
   "execution_count": null,
   "id": "e0c6d94c",
   "metadata": {},
   "outputs": [],
   "source": []
  },
  {
   "cell_type": "code",
   "execution_count": null,
   "id": "64799fc3",
   "metadata": {},
   "outputs": [],
   "source": []
  },
  {
   "cell_type": "code",
   "execution_count": null,
   "id": "25d0d0fb",
   "metadata": {},
   "outputs": [],
   "source": []
  },
  {
   "cell_type": "code",
   "execution_count": null,
   "id": "68f16e7b",
   "metadata": {},
   "outputs": [],
   "source": []
  },
  {
   "cell_type": "code",
   "execution_count": null,
   "id": "9acba356",
   "metadata": {},
   "outputs": [],
   "source": []
  },
  {
   "cell_type": "code",
   "execution_count": null,
   "id": "7ea771c8",
   "metadata": {},
   "outputs": [],
   "source": []
  },
  {
   "cell_type": "code",
   "execution_count": null,
   "id": "ab7d8edb",
   "metadata": {},
   "outputs": [],
   "source": []
  },
  {
   "cell_type": "code",
   "execution_count": null,
   "id": "fca920bc",
   "metadata": {},
   "outputs": [],
   "source": []
  },
  {
   "cell_type": "code",
   "execution_count": null,
   "id": "5af1a283",
   "metadata": {},
   "outputs": [],
   "source": []
  },
  {
   "cell_type": "code",
   "execution_count": null,
   "id": "e11d56b7",
   "metadata": {},
   "outputs": [],
   "source": []
  },
  {
   "cell_type": "code",
   "execution_count": null,
   "id": "bc6d83f8",
   "metadata": {},
   "outputs": [],
   "source": []
  },
  {
   "cell_type": "code",
   "execution_count": null,
   "id": "fcbdebec",
   "metadata": {},
   "outputs": [],
   "source": []
  },
  {
   "cell_type": "code",
   "execution_count": null,
   "id": "10508bac",
   "metadata": {},
   "outputs": [],
   "source": []
  },
  {
   "cell_type": "code",
   "execution_count": null,
   "id": "d3a3f47a",
   "metadata": {},
   "outputs": [],
   "source": []
  },
  {
   "cell_type": "code",
   "execution_count": null,
   "id": "41f53814",
   "metadata": {},
   "outputs": [],
   "source": []
  },
  {
   "cell_type": "code",
   "execution_count": null,
   "id": "9797420c",
   "metadata": {},
   "outputs": [],
   "source": []
  },
  {
   "cell_type": "code",
   "execution_count": null,
   "id": "b38aac1e",
   "metadata": {},
   "outputs": [],
   "source": []
  },
  {
   "cell_type": "code",
   "execution_count": null,
   "id": "0ec3a5b1",
   "metadata": {},
   "outputs": [],
   "source": []
  },
  {
   "cell_type": "code",
   "execution_count": null,
   "id": "be008e39",
   "metadata": {},
   "outputs": [],
   "source": []
  },
  {
   "cell_type": "code",
   "execution_count": null,
   "id": "15a1d0e5",
   "metadata": {},
   "outputs": [],
   "source": []
  },
  {
   "cell_type": "code",
   "execution_count": null,
   "id": "74c10b76",
   "metadata": {},
   "outputs": [],
   "source": []
  },
  {
   "cell_type": "code",
   "execution_count": null,
   "id": "20cdb5ed",
   "metadata": {},
   "outputs": [],
   "source": []
  },
  {
   "cell_type": "code",
   "execution_count": null,
   "id": "f1782118",
   "metadata": {},
   "outputs": [],
   "source": []
  },
  {
   "cell_type": "code",
   "execution_count": null,
   "id": "d228bbb0",
   "metadata": {},
   "outputs": [],
   "source": []
  },
  {
   "cell_type": "code",
   "execution_count": null,
   "id": "6b7ae35b",
   "metadata": {},
   "outputs": [],
   "source": []
  },
  {
   "cell_type": "code",
   "execution_count": null,
   "id": "14f371e8",
   "metadata": {},
   "outputs": [],
   "source": []
  },
  {
   "cell_type": "code",
   "execution_count": null,
   "id": "52a2ef63",
   "metadata": {},
   "outputs": [],
   "source": []
  },
  {
   "cell_type": "code",
   "execution_count": null,
   "id": "e77c36f6",
   "metadata": {},
   "outputs": [],
   "source": []
  },
  {
   "cell_type": "code",
   "execution_count": null,
   "id": "94bb5f94",
   "metadata": {},
   "outputs": [],
   "source": []
  },
  {
   "cell_type": "code",
   "execution_count": null,
   "id": "0f5cd6fb",
   "metadata": {},
   "outputs": [],
   "source": []
  },
  {
   "cell_type": "code",
   "execution_count": null,
   "id": "de6816a2",
   "metadata": {},
   "outputs": [],
   "source": []
  },
  {
   "cell_type": "code",
   "execution_count": null,
   "id": "43c666e1",
   "metadata": {},
   "outputs": [],
   "source": []
  },
  {
   "cell_type": "code",
   "execution_count": null,
   "id": "be9cd490",
   "metadata": {},
   "outputs": [],
   "source": []
  },
  {
   "cell_type": "code",
   "execution_count": null,
   "id": "b909c4a3",
   "metadata": {},
   "outputs": [],
   "source": []
  },
  {
   "cell_type": "code",
   "execution_count": null,
   "id": "a2bd9351",
   "metadata": {},
   "outputs": [],
   "source": []
  },
  {
   "cell_type": "code",
   "execution_count": null,
   "id": "6f596619",
   "metadata": {},
   "outputs": [],
   "source": []
  },
  {
   "cell_type": "code",
   "execution_count": null,
   "id": "840d73e4",
   "metadata": {},
   "outputs": [],
   "source": []
  }
 ],
 "metadata": {
  "kernelspec": {
   "display_name": "DL_env",
   "language": "python",
   "name": "python3"
  },
  "language_info": {
   "codemirror_mode": {
    "name": "ipython",
    "version": 3
   },
   "file_extension": ".py",
   "mimetype": "text/x-python",
   "name": "python",
   "nbconvert_exporter": "python",
   "pygments_lexer": "ipython3",
   "version": "3.10.18"
  }
 },
 "nbformat": 4,
 "nbformat_minor": 5
}
